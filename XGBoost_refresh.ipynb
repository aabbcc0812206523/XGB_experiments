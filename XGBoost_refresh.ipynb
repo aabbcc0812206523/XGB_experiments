{
 "cells": [
  {
   "cell_type": "code",
   "execution_count": 1,
   "metadata": {
    "collapsed": true
   },
   "outputs": [],
   "source": [
    "import numpy as np\n",
    "import pandas as pd\n",
    "import time\n",
    "\n",
    "from sklearn.datasets import fetch_covtype\n",
    "import xgboost as xgb\n",
    "\n",
    "import matplotlib.pyplot as plt\n",
    "%matplotlib inline\n",
    "plt.rcParams[\"font.size\"] = 16"
   ]
  },
  {
   "cell_type": "code",
   "execution_count": 2,
   "metadata": {
    "collapsed": false
   },
   "outputs": [
    {
     "data": {
      "text/plain": [
       "1    211840\n",
       "2    283301\n",
       "3     35754\n",
       "4      2747\n",
       "5      9493\n",
       "6     17367\n",
       "7     20510\n",
       "dtype: int64"
      ]
     },
     "execution_count": 2,
     "metadata": {},
     "output_type": "execute_result"
    }
   ],
   "source": [
    "covtype = fetch_covtype()\n",
    "y = covtype.target\n",
    "\n",
    "pd.Series(y).value_counts(sort=False)"
   ]
  },
  {
   "cell_type": "code",
   "execution_count": 3,
   "metadata": {
    "collapsed": false
   },
   "outputs": [
    {
     "name": "stdout",
     "output_type": "stream",
     "text": [
      "(495141, 54) 0.572162272969\n"
     ]
    }
   ],
   "source": [
    "# Multiclass to Binary\n",
    "X = covtype.data[y < 3]\n",
    "y = y[y < 3] - 1\n",
    "print(X.shape, y.mean())"
   ]
  },
  {
   "cell_type": "code",
   "execution_count": 4,
   "metadata": {
    "collapsed": false
   },
   "outputs": [],
   "source": [
    "idx = np.arange(y.size)\n",
    "np.random.seed(1234)\n",
    "np.random.shuffle(idx)\n",
    "X = X[idx]\n",
    "y = y[idx]"
   ]
  },
  {
   "cell_type": "code",
   "execution_count": 5,
   "metadata": {
    "collapsed": true
   },
   "outputs": [],
   "source": [
    "feature_names = ['f%02d' % i for i in range(X.shape[1])]\n",
    "xgmat_train = xgb.DMatrix(X[:100000], label=y[:100000], feature_names=feature_names)\n",
    "xgmat_valid = xgb.DMatrix(X[-100000:], label=y[-100000:], feature_names=feature_names)\n",
    "\n",
    "watchlist = [(xgmat_train,'train'), (xgmat_valid, 'valid')]"
   ]
  },
  {
   "cell_type": "code",
   "execution_count": 6,
   "metadata": {
    "collapsed": true
   },
   "outputs": [],
   "source": [
    "params_xgb = {'objective':'binary:logistic',\n",
    "              'eta':0.2,\n",
    "              'max_depth':10,\n",
    "              'eval_metric':'logloss',\n",
    "              'seed':2017,\n",
    "              'silent':True}\n",
    "n_rounds = 100"
   ]
  },
  {
   "cell_type": "code",
   "execution_count": 7,
   "metadata": {
    "collapsed": false
   },
   "outputs": [
    {
     "name": "stdout",
     "output_type": "stream",
     "text": [
      "Training ...\n",
      "Done: 7.0s\n"
     ]
    }
   ],
   "source": [
    "evals_result = {}\n",
    "t0 = time.time()\n",
    "print(\"Training ...\")\n",
    "bst = xgb.train(params_xgb, xgmat_train, n_rounds, watchlist,\n",
    "                evals_result=evals_result, verbose_eval=False)\n",
    "print(\"Done: %.1fs\" % (time.time() - t0))"
   ]
  },
  {
   "cell_type": "code",
   "execution_count": 8,
   "metadata": {
    "collapsed": false
   },
   "outputs": [
    {
     "data": {
      "text/plain": [
       "<matplotlib.text.Text at 0x7fe7074d7fd0>"
      ]
     },
     "execution_count": 8,
     "metadata": {},
     "output_type": "execute_result"
    },
    {
     "data": {
      "image/png": "[encoded data removed]",
      "text/plain": [
       "<matplotlib.figure.Figure at 0x7fe7074bd2b0>"
      ]
     },
     "metadata": {},
     "output_type": "display_data"
    }
   ],
   "source": [
    "df_score = pd.DataFrame({'train':evals_result['train']['logloss'],\n",
    "                         'valid':evals_result['valid']['logloss']})\n",
    "df_score.plot(figsize=(13, 6))\n",
    "plt.ylabel(\"logloss\")\n",
    "plt.xlabel(\"Boosting iteration\")"
   ]
  },
  {
   "cell_type": "code",
   "execution_count": 9,
   "metadata": {
    "collapsed": true
   },
   "outputs": [],
   "source": [
    "params_xgb.update({'process_type':'update',\n",
    "                   'updater':'refresh',\n",
    "                   'refresh_leaf': False})"
   ]
  },
  {
   "cell_type": "code",
   "execution_count": 10,
   "metadata": {
    "collapsed": false
   },
   "outputs": [
    {
     "name": "stdout",
     "output_type": "stream",
     "text": [
      "Refreshing ...\n",
      "Done: 0.6s\n"
     ]
    }
   ],
   "source": [
    "t0 = time.time()\n",
    "print(\"Refreshing ...\")\n",
    "bst_after = xgb.train(params_xgb, xgmat_valid, n_rounds, xgb_model=bst)\n",
    "print(\"Done: %.1fs\" % (time.time() - t0))"
   ]
  },
  {
   "cell_type": "code",
   "execution_count": 11,
   "metadata": {
    "collapsed": false
   },
   "outputs": [
    {
     "name": "stdout",
     "output_type": "stream",
     "text": [
      "        train  after_refresh\n",
      "f36  3.774738       3.721348\n",
      "f44  3.814734       3.956078\n",
      "f45  5.003247       4.501594\n",
      "f35  6.052359       7.055316\n",
      "f00  6.296838       5.977178\n"
     ]
    }
   ],
   "source": [
    "imp_2 = pd.DataFrame(index=xgmat_train.feature_names)\n",
    "imp_2['train'] = pd.Series(bst.get_score(importance_type='gain'))\n",
    "imp_2['after_refresh'] = pd.Series(bst_after.get_score(importance_type='gain'))\n",
    "imp_2 = imp_2.dropna()\n",
    "imp_2 /= imp_2.sum(0)*.01\n",
    "imp_2 = imp_2.sort_values('train')\n",
    "print(imp_2.tail())"
   ]
  },
  {
   "cell_type": "code",
   "execution_count": 12,
   "metadata": {
    "collapsed": false
   },
   "outputs": [
    {
     "data": {
      "text/plain": [
       "<matplotlib.axes._subplots.AxesSubplot at 0x7fe703c5b4a8>"
      ]
     },
     "execution_count": 12,
     "metadata": {},
     "output_type": "execute_result"
    },
    {
     "data": {
      "image/png": "[encoded data removed]",
      "text/plain": [
       "<matplotlib.figure.Figure at 0x7fe703c79f28>"
      ]
     },
     "metadata": {},
     "output_type": "display_data"
    }
   ],
   "source": [
    "imp_2.tail(8).plot(kind='barh', title=\"Feature importance\", figsize=(13, 6))"
   ]
  }
 ],
 "metadata": {
  "kernelspec": {
   "display_name": "Python 3",
   "language": "python",
   "name": "python3"
  },
  "language_info": {
   "codemirror_mode": {
    "name": "ipython",
    "version": 3
   },
   "file_extension": ".py",
   "mimetype": "text/x-python",
   "name": "python",
   "nbconvert_exporter": "python",
   "pygments_lexer": "ipython3",
   "version": "3.4.3"
  }
 },
 "nbformat": 4,
 "nbformat_minor": 2
}
