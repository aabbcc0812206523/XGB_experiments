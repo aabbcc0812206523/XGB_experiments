{
 "cells": [
  {
   "cell_type": "code",
   "execution_count": 183,
   "metadata": {
    "collapsed": true
   },
   "outputs": [],
   "source": [
    "import numpy as np\n",
    "import pandas as pd\n",
    "import time\n",
    "\n",
    "from sklearn.datasets import fetch_covtype\n",
    "from sklearn.metrics import log_loss\n",
    "import xgboost as xgb\n",
    "\n",
    "import matplotlib.pyplot as plt\n",
    "%matplotlib inline\n",
    "plt.rcParams[\"font.size\"] = 16"
   ]
  },
  {
   "cell_type": "code",
   "execution_count": 184,
   "metadata": {
    "collapsed": false
   },
   "outputs": [
    {
     "data": {
      "text/plain": [
       "1    211840\n",
       "2    283301\n",
       "3     35754\n",
       "4      2747\n",
       "5      9493\n",
       "6     17367\n",
       "7     20510\n",
       "dtype: int64"
      ]
     },
     "execution_count": 184,
     "metadata": {},
     "output_type": "execute_result"
    }
   ],
   "source": [
    "covtype = fetch_covtype()\n",
    "y = covtype.target\n",
    "\n",
    "pd.Series(y).value_counts(sort=False)"
   ]
  },
  {
   "cell_type": "code",
   "execution_count": 185,
   "metadata": {
    "collapsed": false
   },
   "outputs": [
    {
     "name": "stdout",
     "output_type": "stream",
     "text": [
      "(495141, 54) 0.572162272969\n"
     ]
    }
   ],
   "source": [
    "# Multiclass to Binary\n",
    "X = covtype.data[y < 3]\n",
    "y = y[y < 3] - 1\n",
    "print(X.shape, y.mean())"
   ]
  },
  {
   "cell_type": "code",
   "execution_count": 186,
   "metadata": {
    "collapsed": false
   },
   "outputs": [],
   "source": [
    "idx = np.arange(y.size)\n",
    "np.random.seed(1234)\n",
    "np.random.shuffle(idx)\n",
    "X = X[idx]\n",
    "y = y[idx]"
   ]
  },
  {
   "cell_type": "code",
   "execution_count": 187,
   "metadata": {
    "collapsed": true
   },
   "outputs": [],
   "source": [
    "N = 100000\n",
    "feature_names = ['f%02d' % i for i in range(X.shape[1])]\n",
    "xgmat_train = xgb.DMatrix(X[:N], label=y[:N], feature_names=feature_names)\n",
    "xgmat_valid = xgb.DMatrix(X[-N:], label=y[-N:], feature_names=feature_names)\n",
    "y_valid = y[-N:]\n",
    "watchlist = [(xgmat_train,'train'), (xgmat_valid, 'valid')]"
   ]
  },
  {
   "cell_type": "code",
   "execution_count": 188,
   "metadata": {
    "collapsed": true
   },
   "outputs": [],
   "source": [
    "params_xgb = {'objective'  : 'binary:logistic',\n",
    "              'eta'        : 0.2,\n",
    "              'max_depth'  : 10,\n",
    "              'eval_metric': 'logloss',\n",
    "              #'seed'       : 2017,\n",
    "              'silent':True}\n",
    "n_rounds = 100"
   ]
  },
  {
   "cell_type": "code",
   "execution_count": 189,
   "metadata": {
    "collapsed": false
   },
   "outputs": [
    {
     "name": "stdout",
     "output_type": "stream",
     "text": [
      "Training ...\n",
      "Done: 6.7s\n"
     ]
    }
   ],
   "source": [
    "evals_result = {}\n",
    "t0 = time.time()\n",
    "print(\"Training ...\")\n",
    "bst = xgb.train(params_xgb, xgmat_train, n_rounds, watchlist,\n",
    "                evals_result=evals_result, verbose_eval=False)\n",
    "print(\"Done: %.1fs\" % (time.time() - t0))"
   ]
  },
  {
   "cell_type": "code",
   "execution_count": 190,
   "metadata": {
    "collapsed": false
   },
   "outputs": [
    {
     "data": {
      "text/plain": [
       "<matplotlib.text.Text at 0x7fd44e707cf8>"
      ]
     },
     "execution_count": 190,
     "metadata": {},
     "output_type": "execute_result"
    },
    {
     "data": {
      "image/png": "[encoded data removed]",
      "text/plain": [
       "<matplotlib.figure.Figure at 0x7fd44e755cf8>"
      ]
     },
     "metadata": {},
     "output_type": "display_data"
    }
   ],
   "source": [
    "df_score = pd.DataFrame({'train':evals_result['train']['logloss'],\n",
    "                         'valid':evals_result['valid']['logloss']})\n",
    "df_score.plot(figsize=(13, 6))\n",
    "plt.ylabel(\"logloss\")\n",
    "plt.xlabel(\"Boosting iteration\")"
   ]
  },
  {
   "cell_type": "code",
   "execution_count": 191,
   "metadata": {
    "collapsed": false
   },
   "outputs": [],
   "source": [
    "baseline = df_score.valid.iloc[-1]"
   ]
  },
  {
   "cell_type": "code",
   "execution_count": 192,
   "metadata": {
    "collapsed": true
   },
   "outputs": [],
   "source": [
    "params_xgb.update({'process_type':'update',\n",
    "                   'updater':'refresh',\n",
    "                   'refresh_leaf': True})"
   ]
  },
  {
   "cell_type": "code",
   "execution_count": 193,
   "metadata": {
    "collapsed": true
   },
   "outputs": [],
   "source": [
    "r_lst = [0.5, 0.8, 1, 2, 4, 8]"
   ]
  },
  {
   "cell_type": "code",
   "execution_count": 194,
   "metadata": {
    "collapsed": false
   },
   "outputs": [
    {
     "name": "stdout",
     "output_type": "stream",
     "text": [
      "Refreshing ...\n",
      "r:0.5, 3.9s\n",
      "r:0.8, 5.7s\n",
      "r:1.0, 6.7s\n",
      "r:2.0, 12.3s\n",
      "r:4.0, 23.4s\n",
      "r:8.0, 45.5s\n"
     ]
    }
   ],
   "source": [
    "print(\"Refreshing ...\")\n",
    "idx_base = np.arange(N)\n",
    "pr_dict = {}\n",
    "for r in r_lst:\n",
    "    t0 = time.time()\n",
    "    pr_lst = []\n",
    "    for i in range(10):\n",
    "        idx = np.random.choice(idx_base, int(r * N), replace=True)\n",
    "        xgmat_sample = xgb.DMatrix(X[idx], label=y[idx], feature_names=feature_names)\n",
    "        bst_after = xgb.train(params_xgb, xgmat_sample, n_rounds, xgb_model=bst)\n",
    "        pr_lst.append(bst_after.predict(xgmat_valid))\n",
    "    pr_dict[r] = pr_lst\n",
    "    print(\"r:%.1f, %.1fs\" % (r, (time.time() - t0)))"
   ]
  },
  {
   "cell_type": "code",
   "execution_count": 195,
   "metadata": {
    "collapsed": false
   },
   "outputs": [
    {
     "name": "stderr",
     "output_type": "stream",
     "text": [
      "/usr/lib/python3/dist-packages/scipy/sparse/compressed.py:130: VisibleDeprecationWarning: `rank` is deprecated; use the `ndim` attribute or function instead. To find the rank of a matrix see `numpy.linalg.matrix_rank`.\n",
      "  if np.rank(self.data) != 1 or np.rank(self.indices) != 1 or np.rank(self.indptr) != 1:\n",
      "/usr/lib/python3/dist-packages/scipy/sparse/coo.py:200: VisibleDeprecationWarning: `rank` is deprecated; use the `ndim` attribute or function instead. To find the rank of a matrix see `numpy.linalg.matrix_rank`.\n",
      "  if np.rank(self.data) != 1 or np.rank(self.row) != 1 or np.rank(self.col) != 1:\n"
     ]
    }
   ],
   "source": [
    "df_scores = pd.DataFrame(index=range(10))\n",
    "for r in r_lst:\n",
    "    pr_lst = pr_dict[r]\n",
    "    pr_avg = np.zeros(y_valid.size)\n",
    "    scores = []\n",
    "    for i in range(10):\n",
    "        pr = pr_lst[i]\n",
    "        pr_avg += pr\n",
    "        scores.append({'one_%.1f' % r:log_loss(y_valid, pr),\n",
    "                       'avg_%.1f' % r:log_loss(y_valid, pr_avg/(i+1)),\n",
    "                      })\n",
    "    df_scores = df_scores.join(pd.DataFrame(scores))"
   ]
  },
  {
   "cell_type": "code",
   "execution_count": 196,
   "metadata": {
    "collapsed": false
   },
   "outputs": [
    {
     "data": {
      "text/plain": [
       "0.17676600000000001"
      ]
     },
     "execution_count": 196,
     "metadata": {},
     "output_type": "execute_result"
    }
   ],
   "source": [
    "baseline"
   ]
  },
  {
   "cell_type": "code",
   "execution_count": 197,
   "metadata": {
    "collapsed": false,
    "scrolled": true
   },
   "outputs": [
    {
     "data": {
      "text/html": [
       "<div>\n",
       "<table border=\"1\" class=\"dataframe\">\n",
       "  <thead>\n",
       "    <tr style=\"text-align: right;\">\n",
       "      <th></th>\n",
       "      <th>avg_0.5</th>\n",
       "      <th>avg_0.8</th>\n",
       "      <th>avg_1.0</th>\n",
       "      <th>avg_2.0</th>\n",
       "      <th>avg_4.0</th>\n",
       "      <th>avg_8.0</th>\n",
       "    </tr>\n",
       "  </thead>\n",
       "  <tbody>\n",
       "    <tr>\n",
       "      <th>9</th>\n",
       "      <td>0.186526</td>\n",
       "      <td>0.180568</td>\n",
       "      <td>0.178471</td>\n",
       "      <td>0.174201</td>\n",
       "      <td>0.172343</td>\n",
       "      <td>0.17126</td>\n",
       "    </tr>\n",
       "  </tbody>\n",
       "</table>\n",
       "</div>"
      ],
      "text/plain": [
       "    avg_0.5   avg_0.8   avg_1.0   avg_2.0   avg_4.0  avg_8.0\n",
       "9  0.186526  0.180568  0.178471  0.174201  0.172343  0.17126"
      ]
     },
     "execution_count": 197,
     "metadata": {},
     "output_type": "execute_result"
    }
   ],
   "source": [
    "df_scores.iloc[:, ::2].tail(1)"
   ]
  },
  {
   "cell_type": "code",
   "execution_count": 198,
   "metadata": {
    "collapsed": false,
    "scrolled": true
   },
   "outputs": [
    {
     "data": {
      "text/plain": [
       "<matplotlib.lines.Line2D at 0x7fd44e7e9be0>"
      ]
     },
     "execution_count": 198,
     "metadata": {},
     "output_type": "execute_result"
    },
    {
     "data": {
      "image/png": "[encoded data removed]",
      "text/plain": [
       "<matplotlib.figure.Figure at 0x7fd44e90f6d8>"
      ]
     },
     "metadata": {},
     "output_type": "display_data"
    }
   ],
   "source": [
    "df_scores.iloc[:,1::2].plot(kind='box', figsize=(12,5))\n",
    "plt.axhline(y=baseline, color='red')"
   ]
  },
  {
   "cell_type": "code",
   "execution_count": null,
   "metadata": {
    "collapsed": true
   },
   "outputs": [],
   "source": []
  }
 ],
 "metadata": {
  "kernelspec": {
   "display_name": "Python 3",
   "language": "python",
   "name": "python3"
  },
  "language_info": {
   "codemirror_mode": {
    "name": "ipython",
    "version": 3
   },
   "file_extension": ".py",
   "mimetype": "text/x-python",
   "name": "python",
   "nbconvert_exporter": "python",
   "pygments_lexer": "ipython3",
   "version": "3.4.3"
  }
 },
 "nbformat": 4,
 "nbformat_minor": 2
}
